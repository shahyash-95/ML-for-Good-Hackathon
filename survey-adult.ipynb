{
 "cells": [
  {
   "cell_type": "code",
   "execution_count": 23,
   "id": "1d99bd2b",
   "metadata": {},
   "outputs": [],
   "source": [
    "import pandas as pd\n",
    "import numpy as np\n",
    "import matplotlib.pyplot as plt\n",
    "import seaborn as sns"
   ]
  },
  {
   "cell_type": "code",
   "execution_count": 24,
   "id": "6c14e87b",
   "metadata": {},
   "outputs": [],
   "source": [
    "survey_April20 = pd.read_csv('Data/ProlificAcademic/updated_data/April/CRISIS_Adult_April_2020.csv',index_col='ID')"
   ]
  },
  {
   "cell_type": "code",
   "execution_count": 25,
   "id": "7cba7cff",
   "metadata": {},
   "outputs": [],
   "source": [
    "survey_May20 = pd.read_csv('Data/ProlificAcademic/updated_data/May/CRISIS_Adult_May_2020.csv',index_col='ID')"
   ]
  },
  {
   "cell_type": "code",
   "execution_count": 26,
   "id": "7fe4c98c",
   "metadata": {},
   "outputs": [
    {
     "name": "stderr",
     "output_type": "stream",
     "text": [
      "C:\\Users\\MSUSERSL123\\anaconda3\\envs\\crisisml\\lib\\site-packages\\IPython\\core\\interactiveshell.py:3444: DtypeWarning: Columns (93) have mixed types.Specify dtype option on import or set low_memory=False.\n",
      "  exec(code_obj, self.user_global_ns, self.user_ns)\n"
     ]
    }
   ],
   "source": [
    "survey_Nov20 = pd.read_csv('Data/ProlificAcademic/updated_data/November/CRISIS_Adult_November_2020.csv',index_col='ID')"
   ]
  },
  {
   "cell_type": "code",
   "execution_count": 27,
   "id": "8b9320e0",
   "metadata": {},
   "outputs": [
    {
     "name": "stderr",
     "output_type": "stream",
     "text": [
      "C:\\Users\\MSUSERSL123\\anaconda3\\envs\\crisisml\\lib\\site-packages\\IPython\\core\\interactiveshell.py:3444: DtypeWarning: Columns (5,77,78) have mixed types.Specify dtype option on import or set low_memory=False.\n",
      "  exec(code_obj, self.user_global_ns, self.user_ns)\n"
     ]
    }
   ],
   "source": [
    "survey_April21 = pd.read_csv('Data/ProlificAcademic/updated_data/April_21/CRISIS_Adult_April_2021.csv',index_col='ID')"
   ]
  },
  {
   "cell_type": "code",
   "execution_count": 28,
   "id": "d86da0a4",
   "metadata": {},
   "outputs": [
    {
     "name": "stdout",
     "output_type": "stream",
     "text": [
      "(2868, 243)\n",
      "(3148, 108)\n",
      "(2223, 289)\n",
      "(2125, 285)\n"
     ]
    }
   ],
   "source": [
    "# check individual row and column dimensions\n",
    "print(survey_April20.shape)\n",
    "print(survey_May20.shape)\n",
    "print(survey_Nov20.shape)\n",
    "print(survey_April21.shape)"
   ]
  },
  {
   "cell_type": "code",
   "execution_count": 45,
   "id": "41758ac7",
   "metadata": {},
   "outputs": [],
   "source": [
    "# cant use merge as columns are not same\n",
    "# survey_df = pd.merge(survey_April20, survey_Nov20, how=\"inner\", on='ID')"
   ]
  },
  {
   "cell_type": "markdown",
   "id": "4d3cfd92",
   "metadata": {},
   "source": [
    "### Find common participants across all groups"
   ]
  },
  {
   "cell_type": "code",
   "execution_count": 9,
   "id": "db1a4fba",
   "metadata": {},
   "outputs": [],
   "source": [
    "series_1 = pd.Series(np.intersect1d(survey_April20.index,survey_May20.index, assume_unique=True))\n",
    "series_2 = pd.Series(np.intersect1d(survey_Nov20.index,survey_April21.index, assume_unique=True))\n",
    "unique_ids = list(pd.Series(np.intersect1d(series_1,series_2,assume_unique=True)))\n",
    "#pd.Series(np.intersect1d(pd.Series([1,2,3,5,42]), pd.Series([4,5,6,20,42])))a"
   ]
  },
  {
   "cell_type": "code",
   "execution_count": 10,
   "id": "9daeb2ab",
   "metadata": {},
   "outputs": [
    {
     "data": {
      "text/plain": [
       "1184"
      ]
     },
     "execution_count": 10,
     "metadata": {},
     "output_type": "execute_result"
    }
   ],
   "source": [
    "len(unique_ids)"
   ]
  },
  {
   "cell_type": "code",
   "execution_count": 11,
   "id": "de193dce",
   "metadata": {},
   "outputs": [
    {
     "name": "stdout",
     "output_type": "stream",
     "text": [
      "True\n"
     ]
    },
    {
     "data": {
      "text/plain": [
       "4.0"
      ]
     },
     "execution_count": 11,
     "metadata": {},
     "output_type": "execute_result"
    }
   ],
   "source": [
    "# Test entry in a dataframe\n",
    "print('location' in survey_April20.columns)\n",
    "survey_April21.loc['00db60f1','location']"
   ]
  },
  {
   "cell_type": "code",
   "execution_count": 12,
   "id": "25e25b02",
   "metadata": {},
   "outputs": [],
   "source": [
    "## filter rows\n",
    "survey_April20 = survey_April20.loc[unique_ids]\n",
    "survey_May20 = survey_May20.loc[unique_ids]\n",
    "survey_Nov20 = survey_Nov20.loc[unique_ids]\n",
    "survey_April21 = survey_April21.loc[unique_ids]"
   ]
  },
  {
   "cell_type": "code",
   "execution_count": 13,
   "id": "c37fd35b",
   "metadata": {},
   "outputs": [
    {
     "name": "stdout",
     "output_type": "stream",
     "text": [
      "(1184, 243)\n",
      "(1184, 108)\n",
      "(1184, 289)\n",
      "(1184, 285)\n"
     ]
    }
   ],
   "source": [
    "## Compare shapes after filtering\n",
    "print(survey_April20.shape)\n",
    "print(survey_May20.shape)\n",
    "print(survey_Nov20.shape)\n",
    "print(survey_April21.shape)"
   ]
  },
  {
   "cell_type": "code",
   "execution_count": 14,
   "id": "4b26ecb7",
   "metadata": {
    "scrolled": true
   },
   "outputs": [
    {
     "data": {
      "image/png": "[encoded data removed]",
      "text/plain": [
       "<Figure size 432x288 with 1 Axes>"
      ]
     },
     "metadata": {},
     "output_type": "display_data"
    }
   ],
   "source": [
    "import matplotlib.pyplot as plt\n",
    "\n",
    "plt.style.use('ggplot')\n",
    "ages = survey_Nov20['age']\n",
    "bins = list(range(10,100,10))\n",
    "median_age = survey_Nov20['age'].median()\n",
    "plt.hist(ages, bins=bins, edgecolor='black')\n",
    "plt.axvline(median_age, color='blue', label=\"Median Age\")\n",
    "plt.xlabel(\"Age\")\n",
    "plt.ylabel(\"Age Disribution\")\n",
    "plt.title(\"Age Distribution Histogram in 2020\")\n",
    "plt.legend()\n",
    "plt.show()"
   ]
  },
  {
   "cell_type": "code",
   "execution_count": 15,
   "id": "e9da3f8e",
   "metadata": {},
   "outputs": [],
   "source": [
    "# Find common columns - ignore May 20 as column size decreases drastically\n",
    "surveys = [survey_April20,survey_Nov20,survey_April21]\n",
    "\n",
    "common_cols_timeseries = list(set.intersection(*(set(df.columns) for df in surveys)))"
   ]
  },
  {
   "cell_type": "code",
   "execution_count": 16,
   "id": "e5fd4ce9",
   "metadata": {},
   "outputs": [],
   "source": [
    "# Python map function to subset columns for all dataframes\n",
    "\n",
    "#subset_df = list(map(lambda s:s[common_cols_timeseries], surveys))\n",
    "survey_April20_min = survey_April20[common_cols_timeseries]\n",
    "survey_Nov20_min = survey_Nov20[common_cols_timeseries]\n",
    "survey_April21_min = survey_April21[common_cols_timeseries]\n"
   ]
  },
  {
   "cell_type": "code",
   "execution_count": 17,
   "id": "45882f3d",
   "metadata": {},
   "outputs": [],
   "source": [
    "survey_April21_min = survey_April21_min.add_suffix('_April21')"
   ]
  },
  {
   "cell_type": "code",
   "execution_count": 33,
   "id": "485d2cf7",
   "metadata": {},
   "outputs": [
    {
     "data": {
      "text/plain": [
       "symptoms___1                int64\n",
       "disruptedsupports___11      int64\n",
       "symptoms___5                int64\n",
       "inpersonconvo_bin         float64\n",
       "healthconditions___12       int64\n",
       "                           ...   \n",
       "disruptedsupportsother     object\n",
       "timestamp1                 object\n",
       "healthconditions___3        int64\n",
       "diagnosedfamily___1         int64\n",
       "disruptedsupports___9       int64\n",
       "Length: 107, dtype: object"
      ]
     },
     "execution_count": 33,
     "metadata": {},
     "output_type": "execute_result"
    }
   ],
   "source": [
    "## Column datatypes\n",
    "\n",
    "survey_April20_min.dtypes"
   ]
  },
  {
   "cell_type": "markdown",
   "id": "cfe2b7b2",
   "metadata": {},
   "source": [
    "### Merge dataframes for longitudinal analysis"
   ]
  },
  {
   "cell_type": "code",
   "execution_count": 18,
   "id": "ef5b57d4",
   "metadata": {},
   "outputs": [],
   "source": [
    "surveys_df = pd.merge(survey_April20_min, survey_Nov20_min, how=\"inner\", left_index=True, right_index=True, suffixes=('_April20','_Nov20')).merge(survey_April21_min, left_index=True,right_index=True,  how=\"inner\", suffixes=('','_April21'))"
   ]
  },
  {
   "cell_type": "code",
   "execution_count": 19,
   "id": "6d91d037",
   "metadata": {},
   "outputs": [
    {
     "data": {
      "text/plain": [
       "['age_April20',\n",
       " 'age_April21',\n",
       " 'age_Nov20',\n",
       " 'age_bin_April20',\n",
       " 'age_bin_April21',\n",
       " 'age_bin_Nov20',\n",
       " 'contactschanged_April20',\n",
       " 'contactschanged_April21',\n",
       " 'contactschanged_Nov20',\n",
       " 'country_April20',\n",
       " 'country_April21',\n",
       " 'country_Nov20',\n",
       " 'diagnosedfamily___1_April20',\n",
       " 'diagnosedfamily___1_April21',\n",
       " 'diagnosedfamily___1_Nov20',\n",
       " 'diagnosedfamily___2_April20',\n",
       " 'diagnosedfamily___2_April21',\n",
       " 'diagnosedfamily___2_Nov20',\n",
       " 'diagnosedfamily___3_April20',\n",
       " 'diagnosedfamily___3_April21',\n",
       " 'diagnosedfamily___3_Nov20',\n",
       " 'difficultycancellations_April20',\n",
       " 'difficultycancellations_April21',\n",
       " 'difficultycancellations_Nov20',\n",
       " 'difficultydistancing_April20',\n",
       " 'difficultydistancing_April21',\n",
       " 'difficultydistancing_Nov20',\n",
       " 'disruptedsupports___10_April20',\n",
       " 'disruptedsupports___10_April21',\n",
       " 'disruptedsupports___10_Nov20',\n",
       " 'disruptedsupports___11_April20',\n",
       " 'disruptedsupports___11_April21',\n",
       " 'disruptedsupports___11_Nov20',\n",
       " 'disruptedsupports___12_April20',\n",
       " 'disruptedsupports___12_April21',\n",
       " 'disruptedsupports___12_Nov20',\n",
       " 'disruptedsupports___13_April20',\n",
       " 'disruptedsupports___13_April21',\n",
       " 'disruptedsupports___13_Nov20',\n",
       " 'disruptedsupports___1_April20',\n",
       " 'disruptedsupports___1_April21',\n",
       " 'disruptedsupports___1_Nov20',\n",
       " 'disruptedsupports___2_April20',\n",
       " 'disruptedsupports___2_April21',\n",
       " 'disruptedsupports___2_Nov20',\n",
       " 'disruptedsupports___3_April20',\n",
       " 'disruptedsupports___3_April21',\n",
       " 'disruptedsupports___3_Nov20',\n",
       " 'disruptedsupports___4_April20',\n",
       " 'disruptedsupports___4_April21',\n",
       " 'disruptedsupports___4_Nov20',\n",
       " 'disruptedsupports___5_April20',\n",
       " 'disruptedsupports___5_April21',\n",
       " 'disruptedsupports___5_Nov20',\n",
       " 'disruptedsupports___6_April20',\n",
       " 'disruptedsupports___6_April21',\n",
       " 'disruptedsupports___6_Nov20',\n",
       " 'disruptedsupports___7_April20',\n",
       " 'disruptedsupports___7_April21',\n",
       " 'disruptedsupports___7_Nov20',\n",
       " 'disruptedsupports___8_April20',\n",
       " 'disruptedsupports___8_April21',\n",
       " 'disruptedsupports___8_Nov20',\n",
       " 'disruptedsupports___9_April20',\n",
       " 'disruptedsupports___9_April21',\n",
       " 'disruptedsupports___9_Nov20',\n",
       " 'disruptedsupportsother_April20',\n",
       " 'disruptedsupportsother_April21',\n",
       " 'disruptedsupportsother_Nov20',\n",
       " 'exposed___1_April20',\n",
       " 'exposed___1_April21',\n",
       " 'exposed___1_Nov20',\n",
       " 'exposed___2_April20',\n",
       " 'exposed___2_April21',\n",
       " 'exposed___2_Nov20',\n",
       " 'exposed___3_April20',\n",
       " 'exposed___3_April21',\n",
       " 'exposed___3_Nov20',\n",
       " 'exposed___4_April20',\n",
       " 'exposed___4_April21',\n",
       " 'exposed___4_Nov20',\n",
       " 'familychange_April20',\n",
       " 'familychange_April21',\n",
       " 'familychange_Nov20',\n",
       " 'familychangestress_April20',\n",
       " 'familychangestress_April21',\n",
       " 'familychangestress_Nov20',\n",
       " 'financedifficulty_April20',\n",
       " 'financedifficulty_April21',\n",
       " 'financedifficulty_Nov20',\n",
       " 'foodsecurity_April20',\n",
       " 'foodsecurity_April21',\n",
       " 'foodsecurity_Nov20',\n",
       " 'friendchangestress_April20',\n",
       " 'friendchangestress_April21',\n",
       " 'friendchangestress_Nov20',\n",
       " 'friendschange_April20',\n",
       " 'friendschange_April21',\n",
       " 'friendschange_Nov20',\n",
       " 'healthconditions___10_April20',\n",
       " 'healthconditions___10_April21',\n",
       " 'healthconditions___10_Nov20',\n",
       " 'healthconditions___11_April20',\n",
       " 'healthconditions___11_April21',\n",
       " 'healthconditions___11_Nov20',\n",
       " 'healthconditions___12_April20',\n",
       " 'healthconditions___12_April21',\n",
       " 'healthconditions___12_Nov20',\n",
       " 'healthconditions___13_April20',\n",
       " 'healthconditions___13_April21',\n",
       " 'healthconditions___13_Nov20',\n",
       " 'healthconditions___14_April20',\n",
       " 'healthconditions___14_April21',\n",
       " 'healthconditions___14_Nov20',\n",
       " 'healthconditions___15_April20',\n",
       " 'healthconditions___15_April21',\n",
       " 'healthconditions___15_Nov20',\n",
       " 'healthconditions___16_April20',\n",
       " 'healthconditions___16_April21',\n",
       " 'healthconditions___16_Nov20',\n",
       " 'healthconditions___17_April20',\n",
       " 'healthconditions___17_April21',\n",
       " 'healthconditions___17_Nov20',\n",
       " 'healthconditions___1_April20',\n",
       " 'healthconditions___1_April21',\n",
       " 'healthconditions___1_Nov20',\n",
       " 'healthconditions___2_April20',\n",
       " 'healthconditions___2_April21',\n",
       " 'healthconditions___2_Nov20',\n",
       " 'healthconditions___3_April20',\n",
       " 'healthconditions___3_April21',\n",
       " 'healthconditions___3_Nov20',\n",
       " 'healthconditions___4_April20',\n",
       " 'healthconditions___4_April21',\n",
       " 'healthconditions___4_Nov20',\n",
       " 'healthconditions___5_April20',\n",
       " 'healthconditions___5_April21',\n",
       " 'healthconditions___5_Nov20',\n",
       " 'healthconditions___6_April20',\n",
       " 'healthconditions___6_April21',\n",
       " 'healthconditions___6_Nov20',\n",
       " 'healthconditions___7_April20',\n",
       " 'healthconditions___7_April21',\n",
       " 'healthconditions___7_Nov20',\n",
       " 'healthconditions___8_April20',\n",
       " 'healthconditions___8_April21',\n",
       " 'healthconditions___8_Nov20',\n",
       " 'healthconditions___9_April20',\n",
       " 'healthconditions___9_April21',\n",
       " 'healthconditions___9_Nov20',\n",
       " 'hopefullyend_April20',\n",
       " 'hopefullyend_April21',\n",
       " 'hopefullyend_Nov20',\n",
       " 'hoursofsleepweekdays_April20',\n",
       " 'hoursofsleepweekdays_April21',\n",
       " 'hoursofsleepweekdays_Nov20',\n",
       " 'hoursofsleepweekends_April20',\n",
       " 'hoursofsleepweekends_April21',\n",
       " 'hoursofsleepweekends_Nov20',\n",
       " 'householdcomp___1_April20',\n",
       " 'householdcomp___1_April21',\n",
       " 'householdcomp___1_Nov20',\n",
       " 'householdcomp___2_April20',\n",
       " 'householdcomp___2_April21',\n",
       " 'householdcomp___2_Nov20',\n",
       " 'householdcomp___3_April20',\n",
       " 'householdcomp___3_April21',\n",
       " 'householdcomp___3_Nov20',\n",
       " 'householdcomp___4_April20',\n",
       " 'householdcomp___4_April21',\n",
       " 'householdcomp___4_Nov20',\n",
       " 'householdcomp___5_April20',\n",
       " 'householdcomp___5_April21',\n",
       " 'householdcomp___5_Nov20',\n",
       " 'householdcomp___6_April20',\n",
       " 'householdcomp___6_April21',\n",
       " 'householdcomp___6_Nov20',\n",
       " 'householdcomp___7_April20',\n",
       " 'householdcomp___7_April21',\n",
       " 'householdcomp___7_Nov20',\n",
       " 'householdnumber_April20',\n",
       " 'householdnumber_April21',\n",
       " 'householdnumber_Nov20',\n",
       " 'impact___1_April20',\n",
       " 'impact___1_April21',\n",
       " 'impact___1_Nov20',\n",
       " 'impact___2_April20',\n",
       " 'impact___2_April21',\n",
       " 'impact___2_Nov20',\n",
       " 'impact___3_April20',\n",
       " 'impact___3_April21',\n",
       " 'impact___3_Nov20',\n",
       " 'impact___4_April20',\n",
       " 'impact___4_April21',\n",
       " 'impact___4_Nov20',\n",
       " 'impact___5_April20',\n",
       " 'impact___5_April21',\n",
       " 'impact___5_Nov20',\n",
       " 'impact___6_April20',\n",
       " 'impact___6_April21',\n",
       " 'impact___6_Nov20',\n",
       " 'impact___7_April20',\n",
       " 'impact___7_April21',\n",
       " 'impact___7_Nov20',\n",
       " 'impact___8_April20',\n",
       " 'impact___8_April21',\n",
       " 'impact___8_Nov20',\n",
       " 'inpersonconvo_April20',\n",
       " 'inpersonconvo_April21',\n",
       " 'inpersonconvo_Nov20',\n",
       " 'inpersonconvo_bin_April20',\n",
       " 'inpersonconvo_bin_April21',\n",
       " 'inpersonconvo_bin_Nov20',\n",
       " 'insurance_April20',\n",
       " 'insurance_April21',\n",
       " 'insurance_Nov20',\n",
       " 'livingdifficulty_April20',\n",
       " 'livingdifficulty_April21',\n",
       " 'livingdifficulty_Nov20',\n",
       " 'location_April20',\n",
       " 'location_April21',\n",
       " 'location_Nov20',\n",
       " 'measurementheight_April20',\n",
       " 'measurementheight_April21',\n",
       " 'measurementheight_Nov20',\n",
       " 'measurementweight_April20',\n",
       " 'measurementweight_April21',\n",
       " 'measurementweight_Nov20',\n",
       " 'othersymptoms_April20',\n",
       " 'othersymptoms_April21',\n",
       " 'othersymptoms_Nov20',\n",
       " 'positivechange_April20',\n",
       " 'positivechange_April21',\n",
       " 'positivechange_Nov20',\n",
       " 'readingtalking_April20',\n",
       " 'readingtalking_April21',\n",
       " 'readingtalking_Nov20',\n",
       " 'restrictionsstress_April20',\n",
       " 'restrictionsstress_April21',\n",
       " 'restrictionsstress_Nov20',\n",
       " 'roomsinhouse_April20',\n",
       " 'roomsinhouse_April21',\n",
       " 'roomsinhouse_Nov20',\n",
       " 'specifypositive_April20',\n",
       " 'specifypositive_April21',\n",
       " 'specifypositive_Nov20',\n",
       " 'symptoms___1_April20',\n",
       " 'symptoms___1_April21',\n",
       " 'symptoms___1_Nov20',\n",
       " 'symptoms___2_April20',\n",
       " 'symptoms___2_April21',\n",
       " 'symptoms___2_Nov20',\n",
       " 'symptoms___3_April20',\n",
       " 'symptoms___3_April21',\n",
       " 'symptoms___3_Nov20',\n",
       " 'symptoms___4_April20',\n",
       " 'symptoms___4_April21',\n",
       " 'symptoms___4_Nov20',\n",
       " 'symptoms___5_April20',\n",
       " 'symptoms___5_April21',\n",
       " 'symptoms___5_Nov20',\n",
       " 'symptoms___6_April20',\n",
       " 'symptoms___6_April21',\n",
       " 'symptoms___6_Nov20',\n",
       " 'symptoms___7_April20',\n",
       " 'symptoms___7_April21',\n",
       " 'symptoms___7_Nov20',\n",
       " 'symptoms___8_April20',\n",
       " 'symptoms___8_April21',\n",
       " 'symptoms___8_Nov20',\n",
       " 'tall_April20',\n",
       " 'tall_April21',\n",
       " 'tall_Nov20',\n",
       " 'timeoutside_April20',\n",
       " 'timeoutside_April21',\n",
       " 'timeoutside_Nov20',\n",
       " 'timestamp1_April20',\n",
       " 'timestamp1_April21',\n",
       " 'timestamp1_Nov20',\n",
       " 'timestamp2_April20',\n",
       " 'timestamp2_April21',\n",
       " 'timestamp2_Nov20',\n",
       " 'weight_April20',\n",
       " 'weight_April21',\n",
       " 'weight_Nov20',\n",
       " 'working___1_April20',\n",
       " 'working___1_April21',\n",
       " 'working___1_Nov20',\n",
       " 'working___2_April20',\n",
       " 'working___2_April21',\n",
       " 'working___2_Nov20',\n",
       " 'working___3_April20',\n",
       " 'working___3_April21',\n",
       " 'working___3_Nov20',\n",
       " 'working___4_April20',\n",
       " 'working___4_April21',\n",
       " 'working___4_Nov20',\n",
       " 'working___5_April20',\n",
       " 'working___5_April21',\n",
       " 'working___5_Nov20',\n",
       " 'working___6_April20',\n",
       " 'working___6_April21',\n",
       " 'working___6_Nov20',\n",
       " 'working___7_April20',\n",
       " 'working___7_April21',\n",
       " 'working___7_Nov20',\n",
       " 'working___8_April20',\n",
       " 'working___8_April21',\n",
       " 'working___8_Nov20',\n",
       " 'worriedmental_April20',\n",
       " 'worriedmental_April21',\n",
       " 'worriedmental_Nov20',\n",
       " 'worriedothers_April20',\n",
       " 'worriedothers_April21',\n",
       " 'worriedothers_Nov20',\n",
       " 'worriedphysical_April20',\n",
       " 'worriedphysical_April21',\n",
       " 'worriedphysical_Nov20',\n",
       " 'worriedyourself_April20',\n",
       " 'worriedyourself_April21',\n",
       " 'worriedyourself_Nov20']"
      ]
     },
     "execution_count": 19,
     "metadata": {},
     "output_type": "execute_result"
    }
   ],
   "source": [
    "sorted(list(surveys_df.columns))"
   ]
  },
  {
   "cell_type": "code",
   "execution_count": 116,
   "id": "9b3c480d",
   "metadata": {},
   "outputs": [
    {
     "data": {
      "text/plain": [
       "(1184, 321)"
      ]
     },
     "execution_count": 116,
     "metadata": {},
     "output_type": "execute_result"
    }
   ],
   "source": [
    "surveys_df.shape"
   ]
  },
  {
   "cell_type": "markdown",
   "id": "1b9340fa",
   "metadata": {},
   "source": [
    "### Longitudinal Analysis to depict migration"
   ]
  },
  {
   "cell_type": "code",
   "execution_count": 29,
   "id": "753310ea",
   "metadata": {},
   "outputs": [
    {
     "data": {
      "image/png": "[encoded data removed]",
      "text/plain": [
       "<Figure size 864x720 with 1 Axes>"
      ]
     },
     "metadata": {},
     "output_type": "display_data"
    }
   ],
   "source": [
    "# create data\n",
    "x = surveys_df['location_April20'].value_counts().sort_index().keys()\n",
    "y1 = surveys_df['location_April20'].value_counts().sort_index().values\n",
    "y2 = surveys_df['location_Nov20'].value_counts().sort_index().values\n",
    "y3 = surveys_df['location_April21'].value_counts().sort_index().values\n",
    "width = 0.4\n",
    "  \n",
    "# plot data in grouped manner of bar type\n",
    "plt.figure(figsize=(12,10))\n",
    "plt.title(\"Migration trends in a year\")\n",
    "plt.bar(x-0.2, y1, width, color='blue')\n",
    "plt.bar(x, y2, width, color='orange')\n",
    "plt.bar(x+0.2, y3, width, color='green')\n",
    "plt.xticks(x, ['Large city', 'Suburbs of a large city', 'Small city', 'Town or village', 'Rural area'])\n",
    "plt.xlabel(\"Location\")\n",
    "plt.ylabel(\"Habitants\")\n",
    "plt.legend([\"April 20\", \"Nov 20\", \"April 21\"])\n",
    "plt.show()\n",
    "\n",
    "\n"
   ]
  },
  {
   "cell_type": "code",
   "execution_count": 32,
   "id": "84af6ec4",
   "metadata": {},
   "outputs": [
    {
     "data": {
      "image/png": "[encoded data removed]",
      "text/plain": [
       "<Figure size 864x720 with 1 Axes>"
      ]
     },
     "metadata": {},
     "output_type": "display_data"
    }
   ],
   "source": [
    "#Longtiduinal Analysis of covidstress and mental worries\n",
    "\n",
    "# create data\n",
    "x = surveys_df['worriedmental_April20'].value_counts().sort_index().keys()\n",
    "y1 = surveys_df['worriedmental_April20'].value_counts().sort_index().values\n",
    "y2 = surveys_df['worriedmental_Nov20'].value_counts().sort_index().values\n",
    "y3 = surveys_df['worriedmental_April21'].value_counts().sort_index().values\n",
    "width = 0.4\n",
    "  \n",
    "# plot data in grouped manner of bar type\n",
    "plt.figure(figsize=(12,10))\n",
    "plt.title(\"Mental worries timeline over a year\")\n",
    "plt.bar(x-0.2, y1, width, color='blue')\n",
    "plt.bar(x, y2, width, color='orange')\n",
    "plt.bar(x+0.2, y3, width, color='green')\n",
    "plt.xticks(x, ['Not at all','Slightly','Moderately','Very','Extremely'])\n",
    "plt.xlabel(\"Mental Worries\")\n",
    "plt.ylabel(\"Count\")\n",
    "plt.legend([\"April 20\", \"Nov 20\", \"April 21\"])\n",
    "plt.show()\n",
    "\n",
    "\n"
   ]
  },
  {
   "cell_type": "markdown",
   "id": "59004137",
   "metadata": {},
   "source": [
    "### Above chart shows people were not worried at all in April 2021 when vaccinations had started."
   ]
  },
  {
   "cell_type": "code",
   "execution_count": 34,
   "id": "c18a21a6",
   "metadata": {},
   "outputs": [],
   "source": [
    "def categorical_summarized(dataframe, x=None, y=None, hue=None, palette='Set1', verbose=True):\n",
    "    '''\n",
    "    Helper function that gives a quick summary of a given column of categorical data\n",
    "    Arguments\n",
    "    =========\n",
    "    dataframe: pandas dataframe\n",
    "    x: str. horizontal axis to plot the labels of categorical data, y would be the count\n",
    "    y: str. vertical axis to plot the labels of categorical data, x would be the count\n",
    "    hue: str. if you want to compare it another variable (usually the target variable)\n",
    "    palette: array-like. Colour of the plot\n",
    "    Returns\n",
    "    =======\n",
    "    Quick Stats of the data and also the count plot\n",
    "    '''\n",
    "    if x == None:\n",
    "        column_interested = y\n",
    "    else:\n",
    "        column_interested = x\n",
    "    series = dataframe[column_interested]\n",
    "    print(series.describe())\n",
    "    print('mode: ', series.mode())\n",
    "    if verbose:\n",
    "        print('='*80)\n",
    "        print(series.value_counts())\n",
    "\n",
    "    sns.countplot(x=x, y=y, hue=hue, data=dataframe, palette=palette)\n",
    "    plt.show()\n"
   ]
  },
  {
   "cell_type": "code",
   "execution_count": 39,
   "id": "55a8393f",
   "metadata": {},
   "outputs": [
    {
     "name": "stdout",
     "output_type": "stream",
     "text": [
      "count    762.000000\n",
      "mean       0.022310\n",
      "std        0.147786\n",
      "min        0.000000\n",
      "25%        0.000000\n",
      "50%        0.000000\n",
      "75%        0.000000\n",
      "max        1.000000\n",
      "Name: losejob, dtype: float64\n",
      "mode:  0    0.0\n",
      "dtype: float64\n",
      "================================================================================\n",
      "0.0    745\n",
      "1.0     17\n",
      "Name: losejob, dtype: int64\n"
     ]
    },
    {
     "data": {
      "image/png": "[encoded data removed]",
      "text/plain": [
       "<Figure size 432x288 with 1 Axes>"
      ]
     },
     "metadata": {},
     "output_type": "display_data"
    }
   ],
   "source": [
    "c_palette = ['tab:blue', 'tab:orange']\n",
    "categorical_summarized(survey_April20, x = 'losejob', hue='financedifficulty', palette=c_palette)"
   ]
  },
  {
   "cell_type": "code",
   "execution_count": 42,
   "id": "9c23e037",
   "metadata": {},
   "outputs": [
    {
     "data": {
      "text/plain": [
       "(16, 243)"
      ]
     },
     "execution_count": 42,
     "metadata": {},
     "output_type": "execute_result"
    }
   ],
   "source": [
    "survey_April20.loc[survey_April20['laidoff']==1].shape"
   ]
  },
  {
   "cell_type": "code",
   "execution_count": null,
   "id": "46726d34",
   "metadata": {},
   "outputs": [],
   "source": []
  }
 ],
 "metadata": {
  "kernelspec": {
   "display_name": "Python 3 (ipykernel)",
   "language": "python",
   "name": "python3"
  },
  "language_info": {
   "codemirror_mode": {
    "name": "ipython",
    "version": 3
   },
   "file_extension": ".py",
   "mimetype": "text/x-python",
   "name": "python",
   "nbconvert_exporter": "python",
   "pygments_lexer": "ipython3",
   "version": "3.9.7"
  }
 },
 "nbformat": 4,
 "nbformat_minor": 5
}
